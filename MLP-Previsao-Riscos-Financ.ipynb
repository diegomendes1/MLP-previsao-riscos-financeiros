{
  "nbformat": 4,
  "nbformat_minor": 0,
  "metadata": {
    "colab": {
      "provenance": [],
      "collapsed_sections": [],
      "include_colab_link": true
    },
    "kernelspec": {
      "name": "python3",
      "display_name": "Python 3"
    }
  },
  "cells": [
    {
      "cell_type": "markdown",
      "metadata": {
        "id": "view-in-github",
        "colab_type": "text"
      },
      "source": [
        "<a href=\"https://colab.research.google.com/github/diegomendes1/MLP-previsao-riscos-financeiros/blob/main/MLP-Previsao-Riscos-Financ.ipynb\" target=\"_parent\"><img src=\"https://colab.research.google.com/assets/colab-badge.svg\" alt=\"Open In Colab\"/></a>"
      ]
    },
    {
      "cell_type": "markdown",
      "metadata": {
        "id": "jHwalLVlvcL_"
      },
      "source": [
        "**Equipe 3:** Arianne Torcate, Alice Ziemer, Diego Mendes\n",
        "\n",
        "**Mentor:** Álvaro\n",
        "\n",
        "**Pergunta norteadora:** Quanto o estado vai pagar em 2021 com demandas judiciais?\n",
        "\n",
        "**Objetivo:** Realizar uma previsão de riscos financeiros\n",
        "\n",
        "**Técnica utilizada:** Multilayer Perceptron (MLP)"
      ]
    },
    {
      "cell_type": "code",
      "metadata": {
        "id": "YQFn0dHB0V6r"
      },
      "source": [
        "import pandas as pd\n",
        "dadosOriginais = pd.read_excel(\"dadosEquipe3.xlsx\")\n",
        "dadosOriginais['dataInicial'] = pd.to_datetime(dadosOriginais['dataInicial'])\n",
        "dadosOriginais['dataDePagamento'] = pd.to_datetime(dadosOriginais['dataDePagamento'])"
      ],
      "execution_count": null,
      "outputs": []
    },
    {
      "cell_type": "markdown",
      "metadata": {
        "id": "SikNPKxE5X9P"
      },
      "source": [
        "# **TREINAMENTO**"
      ]
    },
    {
      "cell_type": "markdown",
      "metadata": {
        "id": "qE9YWsU3a9Co"
      },
      "source": [
        "## **Treinamento da MLP: dataDePagamento**\n",
        "- Recebe como entrada apenas a data inicial"
      ]
    },
    {
      "cell_type": "code",
      "metadata": {
        "id": "Pr7hkEv6a7Xw"
      },
      "source": [
        "dados = dadosOriginais.set_index('dataInicial')\n",
        "\n",
        "dados = dados.sort_values(by='dataInicial').dropna()\n",
        "dados = dados[~dados.index.duplicated()]\n",
        "dados = dados.asfreq('2W', method='bfill')\n",
        "colunaDataInicial = dados.index\n",
        "dados = dados.drop('valorPago', axis=1)\n",
        "\n",
        "dados = dados.set_index('Index')\n",
        "dados['dataInicial'] = colunaDataInicial\n",
        "dados['tempoTotal'] = dados.apply(lambda row: ((row.dataDePagamento - row.dataInicial).days), axis = 1) \n",
        "\n",
        "dados = dados.set_index('dataInicial', drop='true')\n",
        "dados = dados.drop('dataDePagamento', axis=1)"
      ],
      "execution_count": null,
      "outputs": []
    },
    {
      "cell_type": "code",
      "metadata": {
        "id": "ssJ6rVTOi5XS"
      },
      "source": [
        "#Convertendo a dataInicial em anos e meses\n",
        "dados['AnoInicial'] = dados.index.year\n",
        "dados['MesInicial'] = dados.index.month\n",
        "\n",
        "dataInicial = dados.index\n",
        "\n",
        "dados = dados.reset_index(drop='true')\n",
        "\n",
        "#normalizando os dados e separando os dados de treino e teste\n",
        "x = dados.drop(\"tempoTotal\", axis=1)\n",
        "y = dados[\"tempoTotal\"]\n",
        "\n",
        "from sklearn.model_selection import train_test_split \n",
        "x_treino,x_teste,y_treino, y_teste=train_test_split(x,y,test_size=0.2,random_state=5, shuffle=False)\n",
        "\n",
        "from sklearn.preprocessing import StandardScaler\n",
        "normalizaData = StandardScaler()\n",
        "normalizaData = normalizaData.fit(x_treino)\n",
        "\n",
        "x_treino_original = x_treino\n",
        "x_teste_original = x_teste\n",
        "\n",
        "x_treino = normalizaData.transform(x_treino)\n",
        "x_teste = normalizaData.transform(x_teste)\n",
        "\n",
        "#fazendo o treino e a predicao\n",
        "\n",
        "from sklearn.neural_network import MLPRegressor\n",
        "regDataFinal = MLPRegressor(max_iter=150, hidden_layer_sizes=(5,10, 15), activation='identity', solver='lbfgs') #A escolha do solver faz com que o \"learning_rate\", \"learning_rate_init\" e momentum não sejam utilizados\n",
        "\n",
        "regDataFinal = regDataFinal.fit(x_treino, y_treino)\n",
        "preditos = regDataFinal.predict(x_teste)\n",
        "real = y_teste.values\n",
        "score = regDataFinal.score(x_teste, y_teste)\n",
        "\n",
        "#score"
      ],
      "execution_count": null,
      "outputs": []
    },
    {
      "cell_type": "markdown",
      "metadata": {
        "id": "lYoJ-HHoolZ-"
      },
      "source": [
        "## **Transformando a predição da dataDePagamento de dias para data**\n",
        "- Transformar as colunas anoInicial e Mês inicial em dataInicial\n",
        " - Somar dataInicial + tempoTotal"
      ]
    },
    {
      "cell_type": "code",
      "metadata": {
        "id": "IcRbaZwF6G6m"
      },
      "source": [
        "dados = dados.drop('AnoInicial', axis=1)\n",
        "dados = dados.drop('MesInicial', axis=1)\n",
        "\n",
        "dados['dataInicial'] = dataInicial\n",
        "\n",
        "dados['dataDePagamento'] = dados['dataInicial'] + dados['tempoTotal'].astype('timedelta64[D]')\n",
        "dados = dados.drop('tempoTotal', axis=1)\n",
        "#print(dados)"
      ],
      "execution_count": null,
      "outputs": []
    },
    {
      "cell_type": "markdown",
      "metadata": {
        "id": "hHvASPXL4XXS"
      },
      "source": [
        "## **Treinamento da MLP: valorPago**\n",
        "- Utiliza a data inicial e data de pagamento"
      ]
    },
    {
      "cell_type": "code",
      "metadata": {
        "id": "tbv2-a1ZJQDz"
      },
      "source": [
        "dados = dadosOriginais.drop('Index', axis=1)\n",
        "dados = dados.set_index('dataInicial')\n",
        "\n",
        "dados = dados.sort_values(by='dataInicial').dropna()\n",
        "dados = dados[~dados.index.duplicated()]\n",
        "dados = dados.asfreq('2W', method='bfill')\n",
        "\n",
        "dataInicialIndex = dados.index;\n",
        "\n",
        "dados = dados.set_index('dataDePagamento')\n",
        "dados['AnoPagamento'] = dados.index.year\n",
        "dados['MesPagamento'] = dados.index.month\n",
        "\n",
        "dados['dataInicial'] = dataInicialIndex\n",
        "dados = dados.set_index('dataInicial')\n",
        "\n",
        "dados['AnoInicial'] = dados.index.year\n",
        "dados['MesInicial'] = dados.index.month\n",
        "dados = dados.reset_index(drop='true')"
      ],
      "execution_count": null,
      "outputs": []
    },
    {
      "cell_type": "code",
      "metadata": {
        "id": "5-MCGKNZ2tCa"
      },
      "source": [
        "x = dados.drop('valorPago', axis=1) #entrada\n",
        "y = dados[\"valorPago\"] #target\n",
        "\n",
        "from sklearn.model_selection import train_test_split \n",
        "x_treino,x_teste,y_treino, y_teste=train_test_split(x,y,test_size=0.2,random_state=5, shuffle=False)\n",
        "\n",
        "from sklearn.preprocessing import StandardScaler\n",
        "normalizaValor = StandardScaler()\n",
        "normalizaValor = normalizaValor.fit(x_treino)\n",
        "\n",
        "x_treino = normalizaValor.transform(x_treino)\n",
        "x_teste = normalizaValor.transform(x_teste)\n",
        "\n",
        "from sklearn.neural_network import MLPRegressor\n",
        "regValor = MLPRegressor(max_iter=150, hidden_layer_sizes=(5,10, 15), activation='identity', solver='lbfgs') #A escolha do solver faz com que o \"learning_rate\", \"learning_rate_init\" e momentum não sejam utilizados\n",
        "\n",
        "regValor = regValor.fit(x_treino, y_treino)\n",
        "preditos = regValor.predict(x_teste)\n",
        "real = y_teste.values\n",
        "score = regValor.score(x_teste, y_teste)\n",
        "\n",
        "#score"
      ],
      "execution_count": null,
      "outputs": []
    },
    {
      "cell_type": "markdown",
      "metadata": {
        "id": "T6h_lHT85mnW"
      },
      "source": [
        "# **USO REAL**"
      ]
    },
    {
      "cell_type": "markdown",
      "metadata": {
        "id": "kBIEnTzT6IPe"
      },
      "source": [
        "## **Recebendo a Entrada**\n",
        "- Usuário dá como entrada o ano desejado\n",
        "- É criada uma tabela do ano requisitado, numa frequência de duas semanas\n",
        "- Então, é realizada a previsão da data final\n",
        "- Posteriormente, é gerada uma tabela com a data inicial e a data final\n",
        "- Então, é gerada a previsão do valor pago\n",
        "- Por fim, a tabela com o resultado é gerada\n"
      ]
    },
    {
      "cell_type": "code",
      "metadata": {
        "id": "xZ8QVPOD4l-4",
        "colab": {
          "base_uri": "https://localhost:8080/"
        },
        "outputId": "efa44a5f-0926-47ef-ea22-ea2ed16acbfb"
      },
      "source": [
        "def preverDataFinal(dados):\n",
        "  dados = dados.set_index('dataInicial')\n",
        "  dados['AnoInicial'] = dados.index.year\n",
        "  dados['MesInicial'] = dados.index.month\n",
        "\n",
        "  dados = dados.reset_index(drop='true')\n",
        "  dados = normalizaData.transform(dados)\n",
        "  preditos = regDataFinal.predict(dados)\n",
        "  return preditos\n",
        "\n",
        "def preverCusto(dados):\n",
        "  dados = dados.set_index('dataInicial')\n",
        "  dataInicialIndex = dados.index;\n",
        "\n",
        "  dados = dados.set_index('dataDePagamento')\n",
        "  dados['AnoPagamento'] = dados.index.year\n",
        "  dados['MesPagamento'] = dados.index.month\n",
        "  dados['dataInicial'] = dataInicialIndex\n",
        "  dados = dados.set_index('dataInicial')\n",
        "  dados['AnoInicial'] = dados.index.year\n",
        "  dados['MesInicial'] = dados.index.month\n",
        "\n",
        "  dados = dados.reset_index(drop='true')\n",
        "  dados = normalizaValor.transform(dados)\n",
        "  preditos = regValor.predict(dados)\n",
        "  return preditos\n",
        "\n",
        "def realizarPrevisao(ano=2021):\n",
        "  dados = pd.DataFrame(pd.date_range(pd.Timestamp(ano, 1, 1), pd.Timestamp(ano, 12, 31), freq=\"2W\"),columns=['dataInicial'])\n",
        "  previsaoData = preverDataFinal(dados)\n",
        "  dados['tempoTotal'] = previsaoData\n",
        "  dados['dataDePagamento'] = dados['dataInicial'] + dados['tempoTotal'].astype('timedelta64[D]')\n",
        "  dados = dados.drop('tempoTotal', axis=1)\n",
        "  \n",
        "  previsaoValor = preverCusto(dados)\n",
        "  dados['valorPago'] = previsaoValor.astype(int)\n",
        "  dados = dados[dados['dataDePagamento'] <= pd.Timestamp(ano, 12, 31)]\n",
        "  return dados\n",
        "\n",
        "previsaoFinal = realizarPrevisao(2021)\n",
        "print(previsaoFinal)"
      ],
      "execution_count": null,
      "outputs": [
        {
          "output_type": "stream",
          "text": [
            "   dataInicial dataDePagamento  valorPago\n",
            "0   2021-01-03      2021-02-10      16855\n",
            "1   2021-01-17      2021-02-24      16855\n",
            "2   2021-01-31      2021-03-10      17170\n",
            "3   2021-02-14      2021-03-23      16362\n",
            "4   2021-02-28      2021-04-06      16677\n",
            "5   2021-03-14      2021-04-19      15869\n",
            "6   2021-03-28      2021-05-03      16184\n",
            "7   2021-04-11      2021-05-16      15376\n",
            "8   2021-04-25      2021-05-30      15376\n",
            "9   2021-05-09      2021-06-12      14882\n",
            "10  2021-05-23      2021-06-26      14882\n",
            "11  2021-06-06      2021-07-08      14389\n",
            "12  2021-06-20      2021-07-22      14389\n",
            "13  2021-07-04      2021-08-04      13896\n",
            "14  2021-07-18      2021-08-18      13896\n",
            "15  2021-08-01      2021-08-31      13088\n",
            "16  2021-08-15      2021-09-14      13403\n",
            "17  2021-08-29      2021-09-28      13403\n",
            "18  2021-09-12      2021-10-11      12910\n",
            "19  2021-09-26      2021-10-25      12910\n",
            "20  2021-10-10      2021-11-07      12417\n",
            "21  2021-10-24      2021-11-21      12417\n",
            "22  2021-11-07      2021-12-04      11924\n",
            "23  2021-11-21      2021-12-18      11924\n",
            "24  2021-12-05      2021-12-31      11115\n"
          ],
          "name": "stdout"
        }
      ]
    },
    {
      "cell_type": "code",
      "metadata": {
        "id": "ZG7gdusaFQLR",
        "colab": {
          "base_uri": "https://localhost:8080/",
          "height": 440
        },
        "outputId": "cbc8d434-ac86-429c-8912-6fc124a82b51"
      },
      "source": [
        "#Gráfico 1: Valor Pago x Data de Pagamento\n",
        "\n",
        "import matplotlib.pyplot as plt\n",
        "import matplotlib.dates as mdates\n",
        "\n",
        "fig, ax = plt.subplots(figsize=(10,  6))\n",
        "\n",
        "# x-axis e y-axis\n",
        "ax.bar(previsaoFinal['dataDePagamento'].dt.strftime('%d-%m-%y'),\n",
        "       previsaoFinal['valorPago'],\n",
        "       color='skyblue')\n",
        "\n",
        "# título e labels\n",
        "ax.set(xlabel=\"Data de Pagamento\",\n",
        "       ylabel=\"Valor Pago (R$)\",\n",
        "       title=\"Valor Pago x Data de Pagamento\")\n",
        "\n",
        "ax.set_xticklabels(labels=previsaoFinal['dataDePagamento'].dt.strftime('%d-%m-%y'), rotation=70, rotation_mode=\"anchor\", ha=\"right\");\n",
        "\n",
        "plt.show()"
      ],
      "execution_count": null,
      "outputs": [
        {
          "output_type": "display_data",
          "data": {
            "image/png": "[encoded data removed]",
            "text/plain": [
              "<Figure size 720x432 with 1 Axes>"
            ]
          },
          "metadata": {
            "tags": [],
            "needs_background": "light"
          }
        }
      ]
    },
    {
      "cell_type": "code",
      "metadata": {
        "id": "G32Kqg6LVxZP",
        "colab": {
          "base_uri": "https://localhost:8080/",
          "height": 404
        },
        "outputId": "70d1bab3-2da0-426a-81c7-932057390d53"
      },
      "source": [
        "#Gráfico 2: Total Pago x Ano\n",
        "import numpy as np\n",
        "\n",
        "x_total = np.concatenate((x_treino, x_teste), axis=0)\n",
        "y_total = np.concatenate((y_treino, preditos))\n",
        "\n",
        "fig, ax = plt.subplots(figsize=(10,  6))\n",
        "\n",
        "soma_anual = []\n",
        "ano = 2015\n",
        "for i in range(y_total.size):\n",
        "  if dados.iloc[i]['AnoInicial'] == ano:\n",
        "    soma_anual[len(soma_anual)-1] += dados.iloc[i]['valorPago']\n",
        "  else:\n",
        "    ano = ano+1\n",
        "    soma_anual.append(dados.iloc[i]['valorPago'])\n",
        "    \n",
        "somaPrevisao = previsaoFinal['valorPago'].sum()\n",
        "soma_anual.append(somaPrevisao)\n",
        "\n",
        "ax.bar([2016, 2017, 2018, 2019, 2020, 2021],\n",
        "       soma_anual,\n",
        "       color=['skyblue','skyblue','skyblue','skyblue','skyblue','orange'])\n",
        "\n",
        "ax.set(xlabel=\"Ano\",\n",
        "       ylabel=\"Total Pago (R$)\",\n",
        "       title=\"Total Pago x Ano\")\n",
        "\n",
        "plt.show()"
      ],
      "execution_count": null,
      "outputs": [
        {
          "output_type": "display_data",
          "data": {
            "image/png": "[encoded data removed]",
            "text/plain": [
              "<Figure size 720x432 with 1 Axes>"
            ]
          },
          "metadata": {
            "tags": [],
            "needs_background": "light"
          }
        }
      ]
    }
  ]
}